{
 "cells": [
  {
   "cell_type": "markdown",
   "metadata": {},
   "source": [
    "# <center>Jarvis : AI Desktop Voice Assistant<hr></center>"
   ]
  },
  {
   "cell_type": "code",
   "execution_count": 5,
   "metadata": {},
   "outputs": [
    {
     "name": "stdout",
     "output_type": "stream",
     "text": [
      "Recognizing\n",
      "Here are the results for : music\n",
      "\n",
      "Recognizing\n",
      "Here are the results for : play music\n",
      "\n",
      "['01 - Bol - Hona Tha Pyar [www.DJMaza.Com].mp3', '01 - Entertainment - Veerey Di Wedding [DJMaza.Info].mp3', '01 - Hai Junoon - K.K. @ Fmw11.com.mp3', '01 - Main Tera Dhadkan Teri.mp3', '02 - DEI - Mannat [DJMaza.Info].mp3', '02 - Dil Ibadat.mp3', '02 TUM SE HI {FILM _ JAB WE MET}.mp3', '03 - 2 States - Mast Magan [DJMaza.Info].mp3', '03 - Tu Hi Haqeeqat.mp3', '03 - Tune Jo Na Kaha - Mohit Chauhan @ Fmw11.com.mp3', '05 - Ek Villain - Humdard [DJMaza.Info].mp3', '05 - Tujhe Bhula Diya - [rKmania.com].mp3', '05 Humsafar (Akhil Sachdeva) 190Kbps.mp3', '06 - Aa Jao Meri Tamanna.mp3', '06 - Teri Khair Mangdi [Funmaza.com].mp3', '06 lambi judai(Female).mp3', '06 My Gospel.mp3', \"1-09 Then There's You.mp3\", '37827-4033.mp3', 'Aashiq Banaya Aapne - Mp3Beet.Com - 192Kbps.mp3', 'ae-dil-hai-mushkil-(Muskurahat.Com).mp3', 'Baarish (Half Girlfriend) - Ash King, Shashaa Tirupati [Mp3Paji.com] 320Kbps.mp3', 'bin tere.mp3', 'Binte_Dil_-Arijit_Singh_487118_www.Jatt13.Com.mp3', 'blue theme.mp3', 'Cartoon - on and on.mp3', 'Cheap Thrills (feat. Sean Paul) (Mp3Beet.Com) - 192Kbps.mp3', 'Chhote Chhote Peg - Sonu Ke Titu Ki Sweety Mp3beet.com - 320Kbps.mp3', 'Coca-Cola-O-Brother-O-Bhai-Mohit-Chauhan-Tv-ad-Song-2017-Download-Part.mp3', 'desktop.ini', 'Despacito (feat. Daddy Yankee) - Single - 192Kbps.mp3', 'diltohbachahaiji01(www.songs.pk).mp3', 'dl.mp3', 'Ed Sheeran - I See Fire (Kygo Remix) (320  kbps).mp3', 'EDT - Hosanna [www.DJMaza.Com].mp3', 'Ek Ladki Ko Dekha Acoustic  Sanam.mp3', 'Follow Me.mp3', 'get-file-1.mp3', 'get-file.mp3', 'Google_Event-1.mp3', 'Gulabi Aankhen - Sanam.mp3', 'harfriendz_34y9urjy.mp3', 'I Dont Wanna Live Forever (Acoustic) - 192Kbps.mp3', 'I Wanna Love You - Akon(MyMp3Song).mp3', 'if u leave me now.mp3', 'ihateluvstorys03(www.songs.pk).mp3', 'Iktara.mp3', 'Iphone_Whatsapp_2016-b20c8f4c-3eb2-3972-a8f3-a7e033f9e991.mp3', 'Justin Bieber - Sorry [128].mp3', 'kuch is tarah.mp3', 'kurbaan hua.mp3', 'Let Me Love You (Mp3Beet.com) - 192Kbps.mp3', 'Mora piya.mp3', 'murder2-01(www.songs.pk).mp3', 'Neele Neele Ambar Par  Sanam.mp3', 'No1 Yaari[48]--Raag.Me--.mp3', 'Raat-Ko-Kar-De-Tu-Sharminda-Tu-Hai-Party-Parinda-FOGG-India.mp3', 'RAJ THAKARE.mp3', 'sadka.mp3', 'Soch Na Sake (Airlift) - Arijit Singh -190Kbps  DJMaza.Info .mp3', 'songs-3f-00-965c346b797921ee13927c7c9052-1 The Way I Am.mp3', 'tera chehra.mp3', 'Tere Sang Yaara (Rustom) Atif Aslam 190Kbps_1468243549724.mp3', 'The Breakup Song-(Muskurahat.Com).mp3', 'Thham_Sa_Gaya-Papon[www.MastJatt.Com].mp3', 'Tu Hi Hai-(Mr-Jatt.com).mp3', 'Tu Itni Khoobsurat Hai - Reloaded-(Mr-Jatt.com).mp3', 'Yeh Raaten Yeh Mausam  Sanam ft Simran Sehgal.mp3', 'Zaalima Raees-(Mr-Jatt.com) (1).mp3', '[Songs.PK] Aashayein - 01 - Mera Jeena Hai Kya.mp3', '[Songs.PK] Raajneeti - 01 - Bheegi Si Bhaagi Si.mp3', '[Songs.PK] Raajneeti - 03 - Ishq Barse.mp3', '[songs.pk] vicky donor - 04 - pani da rang (male).mp3', '¥ Yeah-usher.$.mp3']\n",
      "Recognizing\n",
      "Please, Say that again mam\n",
      "Recognizing\n",
      "Please, Say that again mam\n",
      "Recognizing\n",
      "Here are the results for : play music\n",
      "\n",
      "['01 - Bol - Hona Tha Pyar [www.DJMaza.Com].mp3', '01 - Entertainment - Veerey Di Wedding [DJMaza.Info].mp3', '01 - Hai Junoon - K.K. @ Fmw11.com.mp3', '01 - Main Tera Dhadkan Teri.mp3', '02 - DEI - Mannat [DJMaza.Info].mp3', '02 - Dil Ibadat.mp3', '02 TUM SE HI {FILM _ JAB WE MET}.mp3', '03 - 2 States - Mast Magan [DJMaza.Info].mp3', '03 - Tu Hi Haqeeqat.mp3', '03 - Tune Jo Na Kaha - Mohit Chauhan @ Fmw11.com.mp3', '05 - Ek Villain - Humdard [DJMaza.Info].mp3', '05 - Tujhe Bhula Diya - [rKmania.com].mp3', '05 Humsafar (Akhil Sachdeva) 190Kbps.mp3', '06 - Aa Jao Meri Tamanna.mp3', '06 - Teri Khair Mangdi [Funmaza.com].mp3', '06 lambi judai(Female).mp3', '06 My Gospel.mp3', \"1-09 Then There's You.mp3\", '37827-4033.mp3', 'Aashiq Banaya Aapne - Mp3Beet.Com - 192Kbps.mp3', 'ae-dil-hai-mushkil-(Muskurahat.Com).mp3', 'Baarish (Half Girlfriend) - Ash King, Shashaa Tirupati [Mp3Paji.com] 320Kbps.mp3', 'bin tere.mp3', 'Binte_Dil_-Arijit_Singh_487118_www.Jatt13.Com.mp3', 'blue theme.mp3', 'Cartoon - on and on.mp3', 'Cheap Thrills (feat. Sean Paul) (Mp3Beet.Com) - 192Kbps.mp3', 'Chhote Chhote Peg - Sonu Ke Titu Ki Sweety Mp3beet.com - 320Kbps.mp3', 'Coca-Cola-O-Brother-O-Bhai-Mohit-Chauhan-Tv-ad-Song-2017-Download-Part.mp3', 'desktop.ini', 'Despacito (feat. Daddy Yankee) - Single - 192Kbps.mp3', 'diltohbachahaiji01(www.songs.pk).mp3', 'dl.mp3', 'Ed Sheeran - I See Fire (Kygo Remix) (320  kbps).mp3', 'EDT - Hosanna [www.DJMaza.Com].mp3', 'Ek Ladki Ko Dekha Acoustic  Sanam.mp3', 'Follow Me.mp3', 'get-file-1.mp3', 'get-file.mp3', 'Google_Event-1.mp3', 'Gulabi Aankhen - Sanam.mp3', 'harfriendz_34y9urjy.mp3', 'I Dont Wanna Live Forever (Acoustic) - 192Kbps.mp3', 'I Wanna Love You - Akon(MyMp3Song).mp3', 'if u leave me now.mp3', 'ihateluvstorys03(www.songs.pk).mp3', 'Iktara.mp3', 'Iphone_Whatsapp_2016-b20c8f4c-3eb2-3972-a8f3-a7e033f9e991.mp3', 'Justin Bieber - Sorry [128].mp3', 'kuch is tarah.mp3', 'kurbaan hua.mp3', 'Let Me Love You (Mp3Beet.com) - 192Kbps.mp3', 'Mora piya.mp3', 'murder2-01(www.songs.pk).mp3', 'Neele Neele Ambar Par  Sanam.mp3', 'No1 Yaari[48]--Raag.Me--.mp3', 'Raat-Ko-Kar-De-Tu-Sharminda-Tu-Hai-Party-Parinda-FOGG-India.mp3', 'RAJ THAKARE.mp3', 'sadka.mp3', 'Soch Na Sake (Airlift) - Arijit Singh -190Kbps  DJMaza.Info .mp3', 'songs-3f-00-965c346b797921ee13927c7c9052-1 The Way I Am.mp3', 'tera chehra.mp3', 'Tere Sang Yaara (Rustom) Atif Aslam 190Kbps_1468243549724.mp3', 'The Breakup Song-(Muskurahat.Com).mp3', 'Thham_Sa_Gaya-Papon[www.MastJatt.Com].mp3', 'Tu Hi Hai-(Mr-Jatt.com).mp3', 'Tu Itni Khoobsurat Hai - Reloaded-(Mr-Jatt.com).mp3', 'Yeh Raaten Yeh Mausam  Sanam ft Simran Sehgal.mp3', 'Zaalima Raees-(Mr-Jatt.com) (1).mp3', '[Songs.PK] Aashayein - 01 - Mera Jeena Hai Kya.mp3', '[Songs.PK] Raajneeti - 01 - Bheegi Si Bhaagi Si.mp3', '[Songs.PK] Raajneeti - 03 - Ishq Barse.mp3', '[songs.pk] vicky donor - 04 - pani da rang (male).mp3', '¥ Yeah-usher.$.mp3']\n"
     ]
    },
    {
     "ename": "AttributeError",
     "evalue": "'int' object has no attribute 'randrange'",
     "output_type": "error",
     "traceback": [
      "\u001b[1;31m---------------------------------------------------------------------------\u001b[0m",
      "\u001b[1;31mAttributeError\u001b[0m                            Traceback (most recent call last)",
      "\u001b[1;32m<ipython-input-5-e3164d6eb20d>\u001b[0m in \u001b[0;36m<module>\u001b[1;34m\u001b[0m\n\u001b[0;32m     76\u001b[0m             \u001b[0msongs\u001b[0m \u001b[1;33m=\u001b[0m \u001b[0mos\u001b[0m\u001b[1;33m.\u001b[0m\u001b[0mlistdir\u001b[0m\u001b[1;33m(\u001b[0m\u001b[0mmusic_dir\u001b[0m\u001b[1;33m)\u001b[0m\u001b[1;33m\u001b[0m\u001b[1;33m\u001b[0m\u001b[0m\n\u001b[0;32m     77\u001b[0m             \u001b[0mprint\u001b[0m\u001b[1;33m(\u001b[0m\u001b[0msongs\u001b[0m\u001b[1;33m)\u001b[0m\u001b[1;33m\u001b[0m\u001b[1;33m\u001b[0m\u001b[0m\n\u001b[1;32m---> 78\u001b[1;33m             \u001b[0mrandom\u001b[0m \u001b[1;33m=\u001b[0m \u001b[0mrandom\u001b[0m\u001b[1;33m.\u001b[0m\u001b[0mrandrange\u001b[0m\u001b[1;33m(\u001b[0m\u001b[1;36m0\u001b[0m\u001b[1;33m,\u001b[0m \u001b[0mlen\u001b[0m\u001b[1;33m(\u001b[0m\u001b[0msongs\u001b[0m\u001b[1;33m)\u001b[0m\u001b[1;33m-\u001b[0m\u001b[1;36m1\u001b[0m\u001b[1;33m)\u001b[0m\u001b[1;33m\u001b[0m\u001b[1;33m\u001b[0m\u001b[0m\n\u001b[0m\u001b[0;32m     79\u001b[0m             \u001b[0mos\u001b[0m\u001b[1;33m.\u001b[0m\u001b[0mstartfile\u001b[0m\u001b[1;33m(\u001b[0m\u001b[0mos\u001b[0m\u001b[1;33m.\u001b[0m\u001b[0mpath\u001b[0m\u001b[1;33m.\u001b[0m\u001b[0mjoin\u001b[0m\u001b[1;33m(\u001b[0m\u001b[0mmusic_dir\u001b[0m\u001b[1;33m,\u001b[0m \u001b[0msongs\u001b[0m\u001b[1;33m[\u001b[0m\u001b[0mrandom\u001b[0m\u001b[1;33m]\u001b[0m\u001b[1;33m)\u001b[0m\u001b[1;33m)\u001b[0m\u001b[1;33m\u001b[0m\u001b[1;33m\u001b[0m\u001b[0m\n\u001b[0;32m     80\u001b[0m         \u001b[1;32melif\u001b[0m \u001b[1;34m'time'\u001b[0m \u001b[1;32min\u001b[0m \u001b[0mquery\u001b[0m\u001b[1;33m:\u001b[0m\u001b[1;33m\u001b[0m\u001b[1;33m\u001b[0m\u001b[0m\n",
      "\u001b[1;31mAttributeError\u001b[0m: 'int' object has no attribute 'randrange'"
     ]
    }
   ],
   "source": [
    "import pyttsx3\n",
    "import datetime\n",
    "import speech_recognition as sr\n",
    "import wikipedia\n",
    "import webbrowser as wb\n",
    "import os\n",
    "import random\n",
    "\n",
    "engine =  pyttsx3.init('sapi5')\n",
    "voices = engine.getProperty('voices')\n",
    "\n",
    "# print(voices)\n",
    "engine.setProperty('voice', voices[1].id)\n",
    "# print(voices[0].id) # male\n",
    "# print(voices[1].id) # female\n",
    "\n",
    "def speak(audio):\n",
    "    engine.say(audio)\n",
    "    engine.runAndWait()\n",
    "    \n",
    "def greetMe():\n",
    "    hour = int(datetime.datetime.now().hour)\n",
    "    if(hour>=0 and hour<12):\n",
    "        speak(\"Good Morning !\")\n",
    "    elif(hour>=12 and hour<18):\n",
    "        speak(\"Good Afternoon !\")\n",
    "    else:\n",
    "        speak(\"Good Evening !\")\n",
    "    speak(\"I am Jarvis, How can I help You mam?\")\n",
    "\n",
    "\n",
    "def takeCommand():\n",
    "    '''\n",
    "     accepts microphonei/p and returns str o/p\n",
    "    '''    \n",
    "    r = sr.Recognizer()\n",
    "    with sr.Microphone() as source:\n",
    "        speak(\"I'm listening.....\")\n",
    "        r.pause_threshold=1\n",
    "        audio = r.listen(source)\n",
    "    try:\n",
    "        print('Recognizing')\n",
    "        query=r.recognize_google(audio, language='en-in')\n",
    "        # print('User said : ', query)\n",
    "        print(f\"Here are the results for : {query}\\n\")\n",
    "        \n",
    "    except Exception as e:\n",
    "        # print(e)\n",
    "        print(\"Please, Say that again mam\")\n",
    "        speak(\"Please, Say that again mam\")\n",
    "        return \"None\"\n",
    "    return query\n",
    "    \n",
    "if __name__ == \"__main__\":\n",
    "    greetMe()\n",
    "    while True:\n",
    "        query = takeCommand().lower()\n",
    "        # executing tasks as said in query\n",
    "        if 'wikipedia' in query:\n",
    "            speak('Searching Wikipedia : ')\n",
    "            query = query.replace(\"wikipedia\", \"\") # remove the word wikipedia from query\n",
    "            res = wikipedia.summary(query, sentences=3)\n",
    "            speak('According to wikipedia, ')\n",
    "            print(res)\n",
    "            speak(res)\n",
    "        elif 'open youtube' in query:\n",
    "            wb.open('youtube.com')\n",
    "        elif 'open github' in query:\n",
    "            wb.open('github.com')\n",
    "        elif 'open mail' in query:\n",
    "            wb.open('gmail.com')\n",
    "        elif 'open stack overflow' in query:\n",
    "            wb.open('stackoverflow.com')\n",
    "        elif 'play music' in query:\n",
    "            music_dir = \"F:\\\\songs\"\n",
    "            songs = os.listdir(music_dir)\n",
    "            print(songs)\n",
    "            random = random.randrange(0, len(songs)-1) \n",
    "            os.startfile(os.path.join(music_dir, songs[random]))\n",
    "        elif 'time' in query:\n",
    "            t = datetime.datetime.now().strftime(\"%H:%M:%S\")\n",
    "            speak(f\"Mam, the time is {t}\")\n",
    "            \n",
    "        else:\n",
    "            pass\n",
    "            \n",
    "            \n",
    "        \n",
    "        "
   ]
  },
  {
   "cell_type": "code",
   "execution_count": null,
   "metadata": {},
   "outputs": [],
   "source": []
  },
  {
   "cell_type": "code",
   "execution_count": null,
   "metadata": {},
   "outputs": [],
   "source": []
  }
 ],
 "metadata": {
  "kernelspec": {
   "display_name": "Python 3",
   "language": "python",
   "name": "python3"
  },
  "language_info": {
   "codemirror_mode": {
    "name": "ipython",
    "version": 3
   },
   "file_extension": ".py",
   "mimetype": "text/x-python",
   "name": "python",
   "nbconvert_exporter": "python",
   "pygments_lexer": "ipython3",
   "version": "3.8.2"
  }
 },
 "nbformat": 4,
 "nbformat_minor": 4
}
