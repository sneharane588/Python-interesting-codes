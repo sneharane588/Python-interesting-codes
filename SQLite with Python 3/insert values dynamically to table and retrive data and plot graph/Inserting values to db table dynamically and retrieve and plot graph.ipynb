{
 "cells": [
  {
   "cell_type": "code",
   "execution_count": 25,
   "metadata": {},
   "outputs": [],
   "source": [
    "import sqlite3\n",
    "import time        # to genearte unix value\n",
    "import datetime    # to generate datestamp value\n",
    "import random      # to generate random value\n",
    "import matplotlib.pyplot as plt\n",
    "import matplotlib.dates as mdates\n",
    "from matplotlib import style\n",
    "style.use('fivethirtyeight')"
   ]
  },
  {
   "cell_type": "code",
   "execution_count": 26,
   "metadata": {},
   "outputs": [
    {
     "name": "stdout",
     "output_type": "stream",
     "text": [
      "(1589812111.0933943, '2020-05-18 19:58:31', 'Python', 8.0)\n",
      "(1589812113.3850658, '2020-05-18 19:58:33', 'Python', 8.0)\n"
     ]
    },
    {
     "data": {
      "image/png": "[encoded data removed]",
      "text/plain": [
       "<Figure size 432x288 with 1 Axes>"
      ]
     },
     "metadata": {},
     "output_type": "display_data"
    }
   ],
   "source": [
    "conn = sqlite3.connect(\"mydb1.db\")\n",
    "#cursor\n",
    "c = conn.cursor()\n",
    "\n",
    "def create_table():\n",
    "    c.execute('CREATE TABLE IF NOT EXISTS table1(unix REAL, datestamp TEXT, keyword TEXT, value REAL)  ')\n",
    "    #sql keywords are in capitals and\n",
    "    #user defined words are in small cases but sql in case in-sensitive\n",
    "    #stuffToPlot is tablename\n",
    "    #unix,datestamp,keyword,value are column names\n",
    "    #REAL,TEXT are datatypes\n",
    "    \n",
    "# def data_entry():\n",
    "#     c.execute(\"INSERT INTO table1 VALUES(1451443435, '2016-1-1', 'Python', 5) \" )\n",
    "#     conn.commit()\n",
    "#     c.close()\n",
    "#     conn.close()\n",
    "# create_table()\n",
    "\n",
    "def dynamic_data_entry():\n",
    "    # defining 4 variables we're going to insert\n",
    "    unix = time.time()\n",
    "    datestamp = str(datetime.datetime.fromtimestamp(unix).strftime('%Y-%m-%d %H:%M:%S'))\n",
    "    keyword = 'Python'\n",
    "    value = random.randrange(0,10)\n",
    "    \n",
    "    c.execute(\"INSERT INTO table1 (unix, datestamp, keyword, value) VALUES (?, ?, ?, ?)\", (unix, datestamp, keyword, value))\n",
    "    conn.commit()\n",
    "\n",
    "def retrieve_data():\n",
    "    # c.execute('SELECT * FROM table1') #select all columns\n",
    "    #c.execute('SELECT keyword, value, datestamp, unix FROM table1')  #change order of columns\n",
    "    #c.execute('SELECT datestamp, value FROM table1') #select only some particular columns\n",
    "    c.execute('SELECT * FROM table1 WHERE value=8')\n",
    "    #     data = c.fetchall()\n",
    "    #     print(data)\n",
    "    for row in c.fetchall():\n",
    "        # print(row[0])\n",
    "        print(row)\n",
    "        \n",
    "def graph_data():\n",
    "    c.execute('select unix, value from table1')\n",
    "    dates = []\n",
    "    values = []\n",
    "    for row in c.fetchall():\n",
    "        #print(row[0])\n",
    "        dates.append(datetime.datetime.fromtimestamp(row[0]))\n",
    "        values.append(row[1])\n",
    "    plt.plot_date(dates,values,'-')\n",
    "    plt.show()\n",
    "    \n",
    "# create_table()\n",
    "\n",
    "# for i in range(10):\n",
    "#     dynamic_data_entry()\n",
    "#     time.sleep(1)  #to get diff datestamp for each iteration\n",
    "\n",
    "retrieve_data()\n",
    "graph_data()\n",
    "\n",
    "c.close()\n",
    "conn.close()"
   ]
  },
  {
   "cell_type": "code",
   "execution_count": null,
   "metadata": {},
   "outputs": [],
   "source": []
  }
 ],
 "metadata": {
  "kernelspec": {
   "display_name": "Python 3",
   "language": "python",
   "name": "python3"
  },
  "language_info": {
   "codemirror_mode": {
    "name": "ipython",
    "version": 3
   },
   "file_extension": ".py",
   "mimetype": "text/x-python",
   "name": "python",
   "nbconvert_exporter": "python",
   "pygments_lexer": "ipython3",
   "version": "3.8.2"
  }
 },
 "nbformat": 4,
 "nbformat_minor": 4
}
