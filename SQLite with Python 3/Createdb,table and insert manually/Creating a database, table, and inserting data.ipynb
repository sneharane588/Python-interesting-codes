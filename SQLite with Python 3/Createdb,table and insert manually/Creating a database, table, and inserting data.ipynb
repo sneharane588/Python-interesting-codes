{
 "cells": [
  {
   "cell_type": "markdown",
   "metadata": {},
   "source": [
    "# <center>Creating a database, table, and inserting data</center><hr>"
   ]
  },
  {
   "cell_type": "code",
   "execution_count": 1,
   "metadata": {},
   "outputs": [],
   "source": [
    "#download sqlite serrver from\n",
    "# https://sqlitebrowser.org/dl/#windows"
   ]
  },
  {
   "cell_type": "code",
   "execution_count": 8,
   "metadata": {},
   "outputs": [],
   "source": [
    "import sqlite3"
   ]
  },
  {
   "cell_type": "code",
   "execution_count": 9,
   "metadata": {},
   "outputs": [],
   "source": [
    "conn = sqlite3.connect(\"mydb.db\")\n",
    "#cursor\n",
    "c = conn.cursor()\n",
    "\n",
    "def create_table():\n",
    "    c.execute('CREATE TABLE IF NOT EXISTS stuffToPlot(unix REAL, datestmap TEXT, keyword TEXT, value REAL)  ')\n",
    "    #sql keywords are in capitals and\n",
    "    #user defined words are in small cases but sql in case in-sensitive\n",
    "    #stuffToPlot is tablename\n",
    "    #unix,datestamp,keyword,value are column names\n",
    "    #REAL,TEXT are datatypes\n",
    "    \n",
    "def data_entry():\n",
    "    c.execute(\"INSERT INTO stuffToPlot VALUES(1451443435, '2016-1-1', 'Python', 5) \" )\n",
    "    conn.commit()\n",
    "    c.close()\n",
    "    conn.close()\n",
    "create_table()"
   ]
  },
  {
   "cell_type": "code",
   "execution_count": 11,
   "metadata": {},
   "outputs": [],
   "source": [
    "data_entry()"
   ]
  },
  {
   "cell_type": "code",
   "execution_count": null,
   "metadata": {},
   "outputs": [],
   "source": []
  }
 ],
 "metadata": {
  "kernelspec": {
   "display_name": "Python 3",
   "language": "python",
   "name": "python3"
  },
  "language_info": {
   "codemirror_mode": {
    "name": "ipython",
    "version": 3
   },
   "file_extension": ".py",
   "mimetype": "text/x-python",
   "name": "python",
   "nbconvert_exporter": "python",
   "pygments_lexer": "ipython3",
   "version": "3.8.2"
  }
 },
 "nbformat": 4,
 "nbformat_minor": 4
}
