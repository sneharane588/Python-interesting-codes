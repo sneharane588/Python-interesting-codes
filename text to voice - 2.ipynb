{
 "cells": [
  {
   "cell_type": "markdown",
   "metadata": {},
   "source": [
    "# Text to voice using pyttsx3"
   ]
  },
  {
   "cell_type": "code",
   "execution_count": 2,
   "metadata": {},
   "outputs": [],
   "source": [
    "import pyttsx3  #for text to speech conversion \n",
    "import easygui \n",
    "\n",
    "# init() to get an engine instance for speech synthesis  \n",
    "engine = pyttsx3.init() \n",
    "  \n",
    "# say meth on the engine passes input text \n",
    "text = easygui.enterbox(\"Type the text here...\")\n",
    "engine.say(text) \n",
    "  \n",
    "# run and wait method, it processes the voice commands.  \n",
    "engine.runAndWait()"
   ]
  },
  {
   "cell_type": "markdown",
   "metadata": {},
   "source": [
    "<h2><hr></h2>"
   ]
  },
  {
   "cell_type": "code",
   "execution_count": 4,
   "metadata": {},
   "outputs": [
    {
     "name": "stdout",
     "output_type": "stream",
     "text": [
      "word None 1 129120\n",
      "word None 1 129120\n",
      "finishing None True\n",
      "finishing None True\n"
     ]
    }
   ],
   "source": [
    "import pyttsx3 \n",
    "  \n",
    "def onStart(): \n",
    "   print('starting') \n",
    "  \n",
    "def onWord(name, location, length): \n",
    "   print('word', name, location, length) \n",
    "  \n",
    "def onEnd(name, completed): \n",
    "   print('finishing', name, completed) \n",
    "  \n",
    "engine = pyttsx3.init() \n",
    "  \n",
    "engine.connect('started-utterance', onStart) \n",
    "engine.connect('started-word', onWord) \n",
    "engine.connect('finished-utterance', onEnd) \n",
    "  \n",
    "text = easygui.enterbox(\"Type the text here...\")\n",
    "  \n",
    "  \n",
    "engine.say(text) \n",
    "engine.runAndWait() "
   ]
  },
  {
   "cell_type": "code",
   "execution_count": 6,
   "metadata": {},
   "outputs": [
    {
     "name": "stdout",
     "output_type": "stream",
     "text": [
      "word None 1 284960\n",
      "word None 1 284960\n",
      "finishing None True\n",
      "finishing None True\n",
      "word None 1 512160\n",
      "word None 1 512160\n",
      "finishing None True\n",
      "finishing None True\n"
     ]
    }
   ],
   "source": [
    "# how to convert text to speech \n",
    "import pyttsx3 \n",
    "  \n",
    "# Initialize the converter \n",
    "converter = pyttsx3.init() \n",
    "  \n",
    "# Set properties before adding \n",
    "# Things to say \n",
    "  \n",
    "# Sets speed percent  \n",
    "# Can be more than 100 \n",
    "converter.setProperty('rate', 150) \n",
    "# Set volume 0-1 \n",
    "converter.setProperty('volume', 0.7) \n",
    "  \n",
    "# Queue the entered text  \n",
    "# There will be a pause between \n",
    "# each one like a pause in  \n",
    "# a sentence \n",
    "text1 = easygui.enterbox(\"Type the text here...\")\n",
    "converter.say(text1) \n",
    "text2 = easygui.enterbox(\"Type the text here...\")\n",
    "converter.say(text2) \n",
    "\n",
    "# Empties the say() queue \n",
    "# Program will not continue \n",
    "# until all speech is done talking \n",
    "converter.runAndWait() "
   ]
  },
  {
   "cell_type": "markdown",
   "metadata": {},
   "source": [
    "<h2><hr></h2>"
   ]
  },
  {
   "cell_type": "code",
   "execution_count": 8,
   "metadata": {},
   "outputs": [
    {
     "name": "stdout",
     "output_type": "stream",
     "text": [
      "Voice:\n",
      "ID: HKEY_LOCAL_MACHINE\\SOFTWARE\\Microsoft\\Speech\\Voices\\Tokens\\TTS_MS_EN-US_DAVID_11.0\n",
      "Name: Microsoft David Desktop - English (United States)\n",
      "Age: None\n",
      "Gender: None\n",
      "Languages Known: []\n",
      "Voice:\n",
      "ID: HKEY_LOCAL_MACHINE\\SOFTWARE\\Microsoft\\Speech\\Voices\\Tokens\\TTS_MS_EN-US_ZIRA_11.0\n",
      "Name: Microsoft Zira Desktop - English (United States)\n",
      "Age: None\n",
      "Gender: None\n",
      "Languages Known: []\n"
     ]
    }
   ],
   "source": [
    "#get the list of voices\n",
    "\n",
    "voices = converter.getProperty('voices') \n",
    "  \n",
    "for voice in voices: \n",
    "    #get the info. about various voices in our PC  \n",
    "    print(\"Voice:\") \n",
    "    print(\"ID: %s\" %voice.id) \n",
    "    print(\"Name: %s\" %voice.name) \n",
    "    print(\"Age: %s\" %voice.age) \n",
    "    print(\"Gender: %s\" %voice.gender) \n",
    "    print(\"Languages Known: %s\" %voice.languages) "
   ]
  },
  {
   "cell_type": "code",
   "execution_count": 14,
   "metadata": {},
   "outputs": [
    {
     "name": "stdout",
     "output_type": "stream",
     "text": [
      "word None 1 1188000\n",
      "word None 1 1188000\n",
      "finishing None True\n",
      "finishing None True\n"
     ]
    }
   ],
   "source": [
    "voice_id = \"HKEY_LOCAL_MACHINE\\SOFTWARE\\Microsoft\\Speech\\Voices\\Tokens\\TTS_MS_EN-US_ZIRA_11.0\"\n",
    "  \n",
    "# Use female voice \n",
    "converter.setProperty('voice', voice_id) \n",
    "# Sets speed percent  \n",
    "# Can be more than 100 \n",
    "converter.setProperty('rate', 150) \n",
    "# Set volume 0-1 \n",
    "converter.setProperty('volume', 0.7) \n",
    "# say meth on the engine passes input text \n",
    "text = easygui.enterbox(\"Type the text here...\")\n",
    "engine.say(text) \n",
    "  \n",
    "# run and wait method, it processes the voice commands.  \n",
    "engine.runAndWait()\n",
    "    \n",
    "converter.runAndWait() "
   ]
  },
  {
   "cell_type": "code",
   "execution_count": null,
   "metadata": {},
   "outputs": [],
   "source": []
  }
 ],
 "metadata": {
  "kernelspec": {
   "display_name": "Python 3",
   "language": "python",
   "name": "python3"
  },
  "language_info": {
   "codemirror_mode": {
    "name": "ipython",
    "version": 3
   },
   "file_extension": ".py",
   "mimetype": "text/x-python",
   "name": "python",
   "nbconvert_exporter": "python",
   "pygments_lexer": "ipython3",
   "version": "3.8.2"
  }
 },
 "nbformat": 4,
 "nbformat_minor": 4
}
