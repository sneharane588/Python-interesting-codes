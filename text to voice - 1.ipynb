{
 "cells": [
  {
   "cell_type": "markdown",
   "metadata": {},
   "source": [
    "# Text to voice using win32com"
   ]
  },
  {
   "cell_type": "code",
   "execution_count": 3,
   "metadata": {},
   "outputs": [
    {
     "data": {
      "text/plain": [
       "1"
      ]
     },
     "execution_count": 3,
     "metadata": {},
     "output_type": "execute_result"
    }
   ],
   "source": [
    "#simple code\n",
    "\n",
    "import win32com.client as winc1\n",
    "\n",
    "speak=winc1.Dispatch(\"SAPI.SpVoice\")\n",
    "\n",
    "speak.Speak(\"Hello Sneha\")"
   ]
  },
  {
   "cell_type": "code",
   "execution_count": 1,
   "metadata": {},
   "outputs": [
    {
     "data": {
      "text/plain": [
       "1"
      ]
     },
     "execution_count": 1,
     "metadata": {},
     "output_type": "execute_result"
    }
   ],
   "source": [
    "# Using the messagebox\n",
    "\n",
    "import win32com.client as winc1\n",
    "import easygui\n",
    "\n",
    "speak=winc1.Dispatch(\"SAPI.SpVoice\")\n",
    "text = easygui.enterbox(\"Type the text here...\")\n",
    "speak.Speak(text)"
   ]
  },
  {
   "cell_type": "code",
   "execution_count": null,
   "metadata": {},
   "outputs": [],
   "source": [
    "import win32com.client as winc1\n",
    "import easygui\n",
    "\n",
    "speak=winc1.Dispatch(\"SAPI.SpVoice\")\n",
    "\n",
    "#infinite loop until input is 0\n",
    "while(True):\n",
    "    text = easygui.enterbox(\"Type the text here...\")\n",
    "    if(text!='0'):\n",
    "        speak.Speak(text)\n",
    "    else:\n",
    "        break"
   ]
  }
 ],
 "metadata": {
  "kernelspec": {
   "display_name": "Python 3",
   "language": "python",
   "name": "python3"
  },
  "language_info": {
   "codemirror_mode": {
    "name": "ipython",
    "version": 3
   },
   "file_extension": ".py",
   "mimetype": "text/x-python",
   "name": "python",
   "nbconvert_exporter": "python",
   "pygments_lexer": "ipython3",
   "version": "3.8.2"
  }
 },
 "nbformat": 4,
 "nbformat_minor": 4
}
