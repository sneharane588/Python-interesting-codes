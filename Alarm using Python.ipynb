{
 "cells": [
  {
   "cell_type": "markdown",
   "metadata": {},
   "source": [
    "# <center>Alarm using Python</center><hr>"
   ]
  },
  {
   "cell_type": "code",
   "execution_count": 1,
   "metadata": {},
   "outputs": [],
   "source": [
    "import time\n",
    "import winsound"
   ]
  },
  {
   "cell_type": "code",
   "execution_count": 3,
   "metadata": {},
   "outputs": [
    {
     "name": "stdout",
     "output_type": "stream",
     "text": [
      "Enter time in hr min sec:\n",
      "004\n",
      "Please enter time in correct format\n",
      "\n",
      "Enter time in hr min sec:\n",
      "0 0 4\n"
     ]
    }
   ],
   "source": [
    "def alarm():\n",
    "    try:\n",
    "        mytime = list(map(int, input(\"Enter time in hr min sec:\\n\").split()))\n",
    "        if(len(mytime)==3):\n",
    "            total_sec = mytime[0]*60*60+mytime[1]*60+mytime[2]\n",
    "            time.sleep(total_sec)\n",
    "            freq = 2500         #in hertz\n",
    "            duration = 1000     #1000ms = 1sec\n",
    "            winsound.Beep(freq,duration)\n",
    "        else:\n",
    "            print(\"Please enter time in correct format\\n\")\n",
    "            alarm()\n",
    "    except Exception as e:\n",
    "        print(\"This is exception\\n\",e,\"please enter correct details\")\n",
    "        alarm()\n",
    "alarm()"
   ]
  },
  {
   "cell_type": "code",
   "execution_count": null,
   "metadata": {},
   "outputs": [],
   "source": []
  }
 ],
 "metadata": {
  "kernelspec": {
   "display_name": "Python 3",
   "language": "python",
   "name": "python3"
  },
  "language_info": {
   "codemirror_mode": {
    "name": "ipython",
    "version": 3
   },
   "file_extension": ".py",
   "mimetype": "text/x-python",
   "name": "python",
   "nbconvert_exporter": "python",
   "pygments_lexer": "ipython3",
   "version": "3.8.2"
  }
 },
 "nbformat": 4,
 "nbformat_minor": 4
}
