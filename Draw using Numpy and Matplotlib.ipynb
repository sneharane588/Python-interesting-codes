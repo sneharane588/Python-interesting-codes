{
 "cells": [
  {
   "cell_type": "markdown",
   "metadata": {},
   "source": [
    "# <center>Draw using Numpy and Matplotlib<hr></center>"
   ]
  },
  {
   "cell_type": "code",
   "execution_count": 1,
   "metadata": {},
   "outputs": [],
   "source": [
    "import numpy as np\n",
    "import matplotlib.pyplot as plt\n",
    "import math"
   ]
  },
  {
   "cell_type": "code",
   "execution_count": 16,
   "metadata": {},
   "outputs": [
    {
     "data": {
      "image/png": "[encoded data removed]",
      "text/plain": [
       "<Figure size 432x288 with 1 Axes>"
      ]
     },
     "metadata": {
      "needs_background": "light"
     },
     "output_type": "display_data"
    }
   ],
   "source": [
    "Y = np.arange(-4,4,.005)\n",
    "X = np.zeros((0))\n",
    "for y in Y:\n",
    "  X = np.append(X,abs(y/2)- 0.09137*y**2 + math.sqrt(1-(abs(abs(y)-2)-1)**2) -3)\n",
    "  \n",
    "Y1 = np.append(np.arange(-7,-3,.01), np.arange(3,7,.01))\n",
    "X1 = np.zeros((0))\n",
    "for y in Y1:\n",
    "  X1 = np.append(X1, 3*math.sqrt(-(y/7)**2+1))\n",
    "X = np.append(X,X1)\n",
    "Y = np.append(Y, Y1)\n",
    "\n",
    "Y1 = np.append(np.arange(-7.,-4,.01), np.arange(4,7.01,.01))\n",
    "X1 = np.zeros((0))\n",
    "for y in Y1:\n",
    "  X1 = np.append(X1, -3*math.sqrt(-(y/7)**2+1))\n",
    "X = np.append(X,X1)\n",
    "Y = np.append(Y, Y1)\n",
    "\n",
    "Y1 = np.append(np.arange(-1,-.8,.01), np.arange(.8, 1,.01))\n",
    "X1 = np.zeros((0))\n",
    "for y in Y1:\n",
    "  X1 = np.append(X1, 9-8*abs(y))\n",
    "X = np.append(X,X1)\n",
    "Y = np.append(Y, Y1)\n",
    "\n",
    "Y1 = np.arange(-.5,.5,.05)\n",
    "X1 = np.zeros((0))\n",
    "for y in Y1:\n",
    "  X1 = np.append(X1,2)\n",
    "X = np.append(X,X1)\n",
    "Y = np.append(Y, Y1)\n",
    "\n",
    "Y1 = np.append(np.arange(-2.9,-1,.01), np.arange(1, 2.9,.01))\n",
    "X1 = np.zeros((0))\n",
    "for y in Y1:\n",
    "  X1 = np.append(X1, 1.5 - .5*abs(y) - 1.89736*(math.sqrt(3-y**2+2*abs(y))-2) )\n",
    "X = np.append(X,X1)\n",
    "Y = np.append(Y, Y1)\n",
    "\n",
    "Y1 = np.append(np.arange(-.7,-.45,.01), np.arange(.45, .7,.01))\n",
    "X1 = np.zeros((0))\n",
    "for y in Y1:\n",
    "  X1 = np.append(X1, 3*abs(y)+.75)\n",
    "X = np.append(X,X1)\n",
    "Y = np.append(Y, Y1)\n",
    "\n",
    "plt.plot(Y,X, 'co')\n",
    "\n",
    "plt.grid()\n",
    "plt.show()"
   ]
  }
 ],
 "metadata": {
  "kernelspec": {
   "display_name": "Python 3",
   "language": "python",
   "name": "python3"
  },
  "language_info": {
   "codemirror_mode": {
    "name": "ipython",
    "version": 3
   },
   "file_extension": ".py",
   "mimetype": "text/x-python",
   "name": "python",
   "nbconvert_exporter": "python",
   "pygments_lexer": "ipython3",
   "version": "3.8.2"
  }
 },
 "nbformat": 4,
 "nbformat_minor": 4
}
