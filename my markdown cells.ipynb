{
 "cells": [
  {
   "cell_type": "markdown",
   "metadata": {},
   "source": [
    "# My Jupyter Notebook on IBM Data Science Experience"
   ]
  },
  {
   "cell_type": "markdown",
   "metadata": {},
   "source": [
    "__Sneha__ **Rane**  \n",
    "Data Science Intern"
   ]
  },
  {
   "cell_type": "markdown",
   "metadata": {},
   "source": [
    "_I'm interested in Data Science because I found that I love to study data, analyze it, operate on it, visualize it, make conclusions from it. That's quite interesting. Also I have a huge interest towards python and tableau. I love python because of its amazing feautures and libraries. Data science is going to play a vital role in our future also as number of industries are growing, theay need to keep track of data, number of internet users and their usage are also growing day by day. This data needs to be measured and analyze its various patterns behind it. I find it quite interesting._"
   ]
  },
  {
   "cell_type": "markdown",
   "metadata": {},
   "source": [
    "### Display todays date and now time"
   ]
  },
  {
   "cell_type": "code",
   "execution_count": null,
   "metadata": {},
   "outputs": [],
   "source": [
    "import datetime as dt\n",
    "\n",
    "today = dt.date.today()\n",
    "now = dt.datetime.now()\n",
    "\n",
    "print('today : ',today)\n",
    "print('now : ',now)"
   ]
  },
  {
   "cell_type": "markdown",
   "metadata": {},
   "source": [
    "This is horizontal rule:\n",
    "***  \n",
    "\n",
    " - Bulleted item 1\n",
    " - Bulleted item 2\n",
    " - Bulleted item 3\n",
    " - Bulleted item 4\n",
    " - Bulleted item 5  \n",
    "   \n",
    " \n",
    " 1. Numbered item 1\n",
    " 3. Numbered item 2\n",
    " 5. Numbered item 3\n",
    " 5. Numbered item 4\n",
    " 2. Numbered item 5  \n",
    "   \n",
    "\n",
    "Adding table :  \n",
    "\n",
    "| fruit_id | fruit_name |\n",
    "| ----| ----|\n",
    "| 01  | mango |\n",
    "| 03 | kiwi |\n",
    "| 04 | banana |  \n",
    "      \n",
    "   \n",
    "Hyperlink:  \n",
    "\n",
    "[link text](https://cloud.ibm.com/login)  \n",
    "    \n",
    "      \n",
    "      \n",
    "Adding image: \n",
    "![alt text][logo]\n",
    "\n",
    "[logo]: https://ssl.gstatic.com/ui/v1/icons/mail/rfr/logo_gmail_lockup_default_1x.png \"mug\"\n",
    "    \n",
    "      \n",
    "      \n",
    "```python\n",
    "s = \"Python code syntax highlighting\"\n",
    "print s\n",
    "```\n",
    "    \n",
    "    \n",
    "> This is blockquote  \n",
    "      \n",
    "      \n",
    "~~this is strikethruogh~~"
   ]
  }
 ],
 "metadata": {
  "kernelspec": {
   "display_name": "Python 3",
   "language": "python",
   "name": "python3"
  },
  "language_info": {
   "codemirror_mode": {
    "name": "ipython",
    "version": 3
   },
   "file_extension": ".py",
   "mimetype": "text/x-python",
   "name": "python",
   "nbconvert_exporter": "python",
   "pygments_lexer": "ipython3",
   "version": "3.8.2"
  }
 },
 "nbformat": 4,
 "nbformat_minor": 4
}
