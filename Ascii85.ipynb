{
 "cells": [
  {
   "cell_type": "markdown",
   "metadata": {},
   "source": [
    "# <center>Ascii85<br></center>\n",
    "### <center>Adobe created its own encoding called as ASCII85<br>This encoding is used frequently in Adobe PDF files</center>\n",
    "\n",
    "# <hr>"
   ]
  },
  {
   "cell_type": "code",
   "execution_count": 3,
   "metadata": {},
   "outputs": [
    {
     "name": "stdout",
     "output_type": "stream",
     "text": [
      "Python string\n",
      "b'Python string'\n",
      "b':jI.rDf-\\\\=FE2)5B)'\n",
      "Ascii85 encoded : :jI.rDf-\\=FE2)5B)\n",
      "b':jI.rDf-\\\\=FE2)5B)'\n",
      "b'Python string'\n",
      "Python string\n"
     ]
    }
   ],
   "source": [
    "import base64\n",
    "\n",
    "#create str\n",
    "str = \"Python string\"\n",
    "print(str)\n",
    "\n",
    "#encode into bytes\n",
    "b = str.encode(\"UTF-8\")\n",
    "print(b)\n",
    "\n",
    "#Ascii85 encode the bytes\n",
    "e = base64.a85encode(b)\n",
    "print(e)\n",
    "\n",
    "#decodeing Ascii85 bytes to str\n",
    "s1 = e.decode(\"UTF-8\")\n",
    "\n",
    "#show ascii85 encoded str\n",
    "print(\"Ascii85 encoded :\",s1)\n",
    "\n",
    "#encode ASCII85 encoded str into bytes\n",
    "b1 = s1.encode(\"UTF-8\")\n",
    "print(b1)\n",
    "\n",
    "#decode ascii85 bytes\n",
    "d = base64.a85decode(b1)\n",
    "print(d)\n",
    "\n",
    "#decode bytes to str\n",
    "s2 = d.decode(\"UTF-8\")\n",
    "print(s2)"
   ]
  },
  {
   "cell_type": "code",
   "execution_count": null,
   "metadata": {},
   "outputs": [],
   "source": []
  }
 ],
 "metadata": {
  "kernelspec": {
   "display_name": "Python 3",
   "language": "python",
   "name": "python3"
  },
  "language_info": {
   "codemirror_mode": {
    "name": "ipython",
    "version": 3
   },
   "file_extension": ".py",
   "mimetype": "text/x-python",
   "name": "python",
   "nbconvert_exporter": "python",
   "pygments_lexer": "ipython3",
   "version": "3.8.2"
  }
 },
 "nbformat": 4,
 "nbformat_minor": 4
}
