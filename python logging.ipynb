{
 "cells": [
  {
   "cell_type": "code",
   "execution_count": 2,
   "metadata": {},
   "outputs": [],
   "source": [
    "import logging"
   ]
  },
  {
   "cell_type": "code",
   "execution_count": 3,
   "metadata": {},
   "outputs": [
    {
     "name": "stderr",
     "output_type": "stream",
     "text": [
      "Critical Message!\n",
      "Critical!\n"
     ]
    }
   ],
   "source": [
    "#first way of logging: using a logger\n",
    "\n",
    "logger = logging.getLogger()\n",
    "logger = logging.Logger(\"MYLOGGER\")\n",
    "\n",
    "logger.info(\"Looger successfully created!\")\n",
    "logger.critical(\"Critical Message!\")\n",
    "\n",
    "logger.log(logging.INFO, \"SUCCESSFUL!\")\n",
    "logger.log(logging.CRITICAL, \"Critical!\")"
   ]
  },
  {
   "cell_type": "code",
   "execution_count": 4,
   "metadata": {},
   "outputs": [
    {
     "name": "stderr",
     "output_type": "stream",
     "text": [
      "CRITICAL:root:This is serious!\n"
     ]
    }
   ],
   "source": [
    "# second way of logging: using the module\n",
    "\n",
    "logging.info(\"first informational message!\")\n",
    "logging.critical(\"This is serious!\")"
   ]
  },
  {
   "cell_type": "code",
   "execution_count": null,
   "metadata": {},
   "outputs": [],
   "source": []
  }
 ],
 "metadata": {
  "kernelspec": {
   "display_name": "Python 3",
   "language": "python",
   "name": "python3"
  },
  "language_info": {
   "codemirror_mode": {
    "name": "ipython",
    "version": 3
   },
   "file_extension": ".py",
   "mimetype": "text/x-python",
   "name": "python",
   "nbconvert_exporter": "python",
   "pygments_lexer": "ipython3",
   "version": "3.8.2"
  }
 },
 "nbformat": 4,
 "nbformat_minor": 4
}
